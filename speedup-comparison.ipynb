{
 "cells": [
  {
   "cell_type": "code",
   "execution_count": null,
   "id": "3afa5888",
   "metadata": {
    "scrolled": true
   },
   "outputs": [],
   "source": [
    "    import sys\n",
    "\n",
    "    sys.path.append(\"/scratch/group/csce435-f24/python-3.10.4/lib/python3.10/site-packages\")\n",
    "    #sys.path.append(\"C:/Users/jaesu/AppData/Local/Programs/Python/Python312/Lib/site-packages\")\n",
    "    sys.path.append(\"/scratch/group/csce435-f24/thicket\")\n",
    "    from glob import glob\n",
    "\n",
    "    import matplotlib.pyplot as plt \n",
    "    import pandas as pd\n",
    "    import thicket as th\n",
    "\n",
    "    pd.set_option(\"display.max_rows\", None)\n",
    "    pd.set_option(\"display.max_columns\", None)"
   ]
  },
  {
   "cell_type": "code",
   "execution_count": null,
   "id": "b7c28e83",
   "metadata": {
    "scrolled": true
   },
   "outputs": [],
   "source": [
    "# Read in cali files for each sorting algorithm\n",
    "cali_dirs = {\n",
    "    \"bitonic\": \"cali_files/bitonic_cali/*.cali\",\n",
    "    \"merge\": \"cali_files/merge_cali/*.cali\",\n",
    "    \"sample\": \"cali_files/sample_cali/*.cali\"\n",
    "}\n",
    "\n",
    "# Initialize a dictionary to store Thicket objects for each algorithm\n",
    "tk_dataframes = {}\n",
    "\n",
    "for alg, path in cali_dirs.items():\n",
    "    tk_dataframes[alg] = th.Thicket.from_caliperreader(glob(path))\n",
    "    tk_dataframes[alg].metadata_column_to_perfdata(\"algorithm\")\n",
    "    tk_dataframes[alg].metadata_column_to_perfdata(\"input_size\")\n",
    "    tk_dataframes[alg].metadata_column_to_perfdata(\"input_type\")\n",
    "    tk_dataframes[alg].metadata_column_to_perfdata(\"num_procs\")\n",
    "\n",
    "    # Convert Thicket to DataFrame and reset index\n",
    "    tk_dataframes[alg] = tk_dataframes[alg].dataframe.reset_index().set_index(\n",
    "        [\"node\", \"algorithm\", \"input_size\", \"input_type\", \"num_procs\"]\n",
    "    ).sort_index()\n"
   ]
  },
  {
   "cell_type": "code",
   "execution_count": null,
   "id": "40e0de39",
   "metadata": {},
   "outputs": [],
   "source": [
    "# Define common variables\n",
    "processes = [2, 4, 8, 16, 32, 64, 128, 256, 512]\n",
    "input_size = 262144\n",
    "input_type = \"random\"\n",
    "algorithms = [\"bitonic\", \"merge\", \"sample\"]"
   ]
  },
  {
   "cell_type": "code",
   "execution_count": 13,
   "id": "f89c8eaa-9ea5-448d-8b01-658eeef21047",
   "metadata": {},
   "outputs": [],
   "source": [
    "plt.rcParams.update({\"font.size\": 18})"
   ]
  },
  {
   "cell_type": "code",
   "execution_count": 15,
   "id": "30d666c6",
   "metadata": {
    "scrolled": true
   },
   "outputs": [],
   "source": [
    "# Dictionary to store speedup data for each algorithm\n",
    "speedup_data = {}\n",
    "\n",
    "for alg in algorithms:\n",
    "    # Get the sequential (1 processor) Avg time/rank for the current algorithm\n",
    "    if alg == \"bitonic\":\n",
    "        seq_time = tk_dataframes[alg].loc[(slice(None), \"bitonic_sort\", input_size, input_type, 1), \"Avg time/rank\"].values[0]\n",
    "    else:\n",
    "        seq_time = tk_dataframes[alg].loc[(slice(None), alg, input_size, input_type, 1), \"Avg time/rank\"].values[0]\n",
    "\n",
    "    # Calculate speedup for each processor count\n",
    "    speedup_data[alg] = {}\n",
    "    for proc in processes:\n",
    "        # Fetch the parallel time for the current processor count and algorithm\n",
    "        parallel_time = tk_dataframes[alg].loc[(slice(None), alg if alg != \"bitonic\" else \"bitonic_sort\", input_size, input_type, proc), \"Avg time/rank\"].values[0]\n",
    "        speedup_data[alg][proc] = seq_time / parallel_time\n"
   ]
  },
  {
   "cell_type": "code",
   "execution_count": null,
   "id": "ad0f04ea",
   "metadata": {
    "scrolled": true
   },
   "outputs": [],
   "source": [
    "# Plotting the speedup data\n",
    "plt.figure(figsize=(15, 7))\n",
    "for alg in algorithms:\n",
    "    plt.plot(list(speedup_data[alg].keys()), list(speedup_data[alg].values()), marker='o', label=alg.capitalize() + \" Sort\")\n",
    "\n",
    "plt.title(f\"Sorting Algorithms - Strong Scaling Speedup (Input Size: {input_size}, Input Type: {input_type.capitalize()})\")\n",
    "plt.xlabel(\"Number of Processes\")\n",
    "plt.ylabel(\"Speedup (Sequential Time / Parallel Time)\")\n",
    "plt.grid(True)\n",
    "plt.legend(title=\"Algorithm\")\n",
    "plt.savefig(f\"./graphs/Speedup_{input_size}_{input_type}.png\")\n",
    "plt.show()"
   ]
  },
  {
   "cell_type": "code",
   "execution_count": null,
   "id": "76b89805-ec20-489b-9e10-176ed87865d6",
   "metadata": {},
   "outputs": [],
   "source": []
  }
 ],
 "metadata": {
  "kernelspec": {
   "display_name": "Python 3 (ipykernel)",
   "language": "python",
   "name": "python3"
  },
  "language_info": {
   "codemirror_mode": {
    "name": "ipython",
    "version": 3
   },
   "file_extension": ".py",
   "mimetype": "text/x-python",
   "name": "python",
   "nbconvert_exporter": "python",
   "pygments_lexer": "ipython3",
   "version": "3.12.4"
  }
 },
 "nbformat": 4,
 "nbformat_minor": 5
}
