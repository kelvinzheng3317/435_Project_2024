{
 "cells": [
  {
   "cell_type": "code",
   "execution_count": null,
   "id": "8c7a6232",
   "metadata": {},
   "outputs": [],
   "source": [
    "    import sys\n",
    "\n",
    "    sys.path.append(\"/scratch/group/csce435-f24/python-3.10.4/lib/python3.10/site-packages\")\n",
    "    #sys.path.append(\"C:/Users/jaesu/AppData/Local/Programs/Python/Python312/Lib/site-packages\")\n",
    "    sys.path.append(\"/scratch/group/csce435-f24/thicket\")\n",
    "    from glob import glob\n",
    "\n",
    "    import matplotlib.pyplot as plt \n",
    "    import pandas as pd\n",
    "\n",
    "    import thicket as th\n",
    "\n",
    "    pd.set_option(\"display.max_rows\", None)\n",
    "    pd.set_option(\"display.max_columns\", None)"
   ]
  },
  {
   "cell_type": "code",
   "execution_count": null,
   "id": "649a1707",
   "metadata": {},
   "outputs": [],
   "source": [
    "tk = th.Thicket.from_caliperreader(glob(\"cali_files/sample_cali/*.cali\"))"
   ]
  },
  {
   "cell_type": "code",
   "execution_count": null,
   "id": "eae199d3",
   "metadata": {
    "scrolled": true
   },
   "outputs": [],
   "source": [
    "tk.metadata_column_to_perfdata(\"algorithm\")\n",
    "tk.metadata_column_to_perfdata(\"input_size\")\n",
    "tk.metadata_column_to_perfdata(\"input_type\")\n",
    "tk.metadata_column_to_perfdata(\"num_procs\")\n",
    "\n",
    "tk.dataframe = tk.dataframe.reset_index().set_index([\"node\", \"algorithm\", \"input_size\", \"input_type\", \"num_procs\"]).sort_index()\n",
    "\n",
    "tk.dataframe"
   ]
  },
  {
   "cell_type": "code",
   "execution_count": 6,
   "id": "1b9d4e64",
   "metadata": {},
   "outputs": [],
   "source": [
    "# Define common variables\n",
    "processes = [2, 4, 8, 16, 32, 64, 128, 256, 512, 1024]\n",
    "input_size = 67108864\n",
    "input_types = [\"sorted\", \"random\", \"reverse\", \"perturbed\"]"
   ]
  },
  {
   "cell_type": "code",
   "execution_count": 11,
   "id": "2aafc376-001c-4081-ab2d-682cd1c4fb82",
   "metadata": {},
   "outputs": [],
   "source": [
    "plt.rcParams.update({\"font.size\": 18})"
   ]
  },
  {
   "cell_type": "code",
   "execution_count": null,
   "id": "b1321ccc",
   "metadata": {},
   "outputs": [],
   "source": [
    "# Check unique values in the algorithm metadata to see the correct naming\n",
    "print(tk.dataframe.index.get_level_values('algorithm').unique())"
   ]
  },
  {
   "cell_type": "code",
   "execution_count": null,
   "id": "b2c0bf21",
   "metadata": {},
   "outputs": [],
   "source": [
    "alg = \"sample\"\n",
    "\n",
    "# Dictionary to store speedup data for each input type\n",
    "speedup_data_all_types = {input_type: {} for input_type in input_types}\n",
    "\n",
    "for input_type in input_types:\n",
    "    \n",
    "    # Get the sequential (1 processor) Avg time/rank for the current input type\n",
    "    seq_time = tk.dataframe.loc[(slice(None), alg, input_size, input_type, 1), \"Avg time/rank\"].values[0]\n",
    "        \n",
    "    # Calculate speedup for each processor count\n",
    "    for proc in processes:\n",
    "        \n",
    "        # Fetch the parallel time for the current processor count and input type\n",
    "        parallel_time = tk.dataframe.loc[(slice(None), alg.lower(), input_size, input_type, proc), \"Avg time/rank\"].values[0]\n",
    "        speedup_data_all_types[input_type][proc] = seq_time / parallel_time\n",
    "\n",
    "plt.figure(figsize=(15, 7))\n",
    "for input_type, speedup_data in speedup_data_all_types.items():\n",
    "    plt.plot(list(speedup_data.keys()), list(speedup_data.values()), marker='o', label=input_type.capitalize())\n",
    "\n",
    "# This is to fix bitonic sort's title \n",
    "if alg == \"bitonic_sort\":\n",
    "    alg = \"Bitonic\"\n",
    "\n",
    "plt.title(f\"{alg} Sort - Strong Scaling Speedup (Input Size: {input_size})\")\n",
    "plt.xlabel(\"Number of Processes\")\n",
    "plt.ylabel(\"Speedup (Sequential Time / Parallel Time)\")\n",
    "plt.grid(True)\n",
    "plt.legend(title=\"Input Type\")\n",
    "plt.savefig(f\"./graphs/{alg}_speedup_{input_size}.png\")\n",
    "plt.show()\n"
   ]
  },
  {
   "cell_type": "code",
   "execution_count": null,
   "id": "d131dbaf-be3a-4cd6-8ff2-183bfdce0813",
   "metadata": {},
   "outputs": [],
   "source": []
  }
 ],
 "metadata": {
  "kernelspec": {
   "display_name": "Python 3 (ipykernel)",
   "language": "python",
   "name": "python3"
  },
  "language_info": {
   "codemirror_mode": {
    "name": "ipython",
    "version": 3
   },
   "file_extension": ".py",
   "mimetype": "text/x-python",
   "name": "python",
   "nbconvert_exporter": "python",
   "pygments_lexer": "ipython3",
   "version": "3.12.4"
  }
 },
 "nbformat": 4,
 "nbformat_minor": 5
}
