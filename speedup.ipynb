{
 "cells": [
  {
   "cell_type": "code",
   "execution_count": 1,
   "metadata": {},
   "outputs": [],
   "source": [
    "import sys\n",
    "\n",
    "# sys.path.append(\"/scratch/group/csce435-f24/python-3.10.4/lib/python3.10/site-packages\")\n",
    "sys.path.append(\"C:/Users/BJMin/AppData/Local/Programs/Python/Python312/Lib/site-packages\")\n",
    "# sys.path.append(\"/scratch/group/csce435-f24/thicket\")\n",
    "from glob import glob\n",
    "\n",
    "import matplotlib.pyplot as plt \n",
    "import pandas as pd\n",
    "\n",
    "import thicket as th\n",
    "\n",
    "pd.set_option(\"display.max_rows\", None)\n",
    "pd.set_option(\"display.max_columns\", None)"
   ]
  },
  {
   "cell_type": "code",
   "execution_count": 3,
   "metadata": {},
   "outputs": [
    {
     "ename": "AttributeError",
     "evalue": "module 'thicket' has no attribute 'Thicket'",
     "output_type": "error",
     "traceback": [
      "\u001b[0;31m---------------------------------------------------------------------------\u001b[0m",
      "\u001b[0;31mAttributeError\u001b[0m                            Traceback (most recent call last)",
      "Cell \u001b[0;32mIn[3], line 1\u001b[0m\n\u001b[0;32m----> 1\u001b[0m tk \u001b[38;5;241m=\u001b[39m \u001b[43mth\u001b[49m\u001b[38;5;241;43m.\u001b[39;49m\u001b[43mThicket\u001b[49m\u001b[38;5;241m.\u001b[39mfrom_caliperreader(glob(\u001b[38;5;124m\"\u001b[39m\u001b[38;5;124mcali_files/bitonic_cali/*.cali\u001b[39m\u001b[38;5;124m\"\u001b[39m))\n",
      "\u001b[0;31mAttributeError\u001b[0m: module 'thicket' has no attribute 'Thicket'"
     ]
    }
   ],
   "source": [
    "tk = th.Thicket.from_caliperreader(glob(\"cali_files/bitonic_cali/*.cali\"))"
   ]
  },
  {
   "cell_type": "code",
   "execution_count": 2,
   "metadata": {},
   "outputs": [
    {
     "ename": "NameError",
     "evalue": "name 'tk' is not defined",
     "output_type": "error",
     "traceback": [
      "\u001b[0;31m---------------------------------------------------------------------------\u001b[0m",
      "\u001b[0;31mNameError\u001b[0m                                 Traceback (most recent call last)",
      "Cell \u001b[0;32mIn[2], line 1\u001b[0m\n\u001b[0;32m----> 1\u001b[0m \u001b[38;5;28mprint\u001b[39m(\u001b[43mtk\u001b[49m\u001b[38;5;241m.\u001b[39mtree(metric_column\u001b[38;5;241m=\u001b[39m\u001b[38;5;124m\"\u001b[39m\u001b[38;5;124mAvg time/rank\u001b[39m\u001b[38;5;124m\"\u001b[39m))\n",
      "\u001b[0;31mNameError\u001b[0m: name 'tk' is not defined"
     ]
    }
   ],
   "source": [
    "print(tk.tree(metric_column=\"Avg time/rank\"))"
   ]
  },
  {
   "cell_type": "code",
   "execution_count": null,
   "metadata": {},
   "outputs": [],
   "source": [
    "tk.metadata_column_to_perfdata(\"algorithm\")\n",
    "tk.metadata_column_to_perfdata(\"input_size\")\n",
    "tk.metadata_column_to_perfdata(\"input_type\")\n",
    "tk.metadata_column_to_perfdata(\"num_procs\")\n",
    "\n",
    "tk.dataframe = tk.dataframe.reset_index().set_index([\"node\", \"algorithm\", \"input_size\", \"input_type\", \"num_procs\"]).sort_index()\n",
    "\n",
    "tk.dataframe.head()"
   ]
  },
  {
   "cell_type": "code",
   "execution_count": null,
   "metadata": {},
   "outputs": [],
   "source": [
    "# Define common variables\n",
    "processes = [2, 4, 8, 16, 32, 64, 128, 256, 512, 1024]\n",
    "array_sizes = [65536, 262144, 1048576, 4194304, 16777216, 67108864, 268435456]\n",
    "input_types = [\"sorted\", \"random\", \"reverse\", \"perturbed\"]"
   ]
  },
  {
   "cell_type": "code",
   "execution_count": null,
   "metadata": {},
   "outputs": [],
   "source": [
    "# Change font size for all plots\n",
    "plt.rcParams.update({\"font.size\": 20})"
   ]
  },
  {
   "cell_type": "code",
   "execution_count": null,
   "metadata": {},
   "outputs": [],
   "source": [
    "def plot_pandas(df, title, xlabel, ylabel):\n",
    "    plot = df.plot(kind=\"line\", \n",
    "        marker='o', \n",
    "        title=title, \n",
    "        xlabel=xlabel,\n",
    "        ylabel=ylabel, \n",
    "        figsize=(15,7),\n",
    "        grid=True\n",
    "    )\n",
    "    return plot"
   ]
  },
  {
   "cell_type": "code",
   "execution_count": null,
   "metadata": {},
   "outputs": [],
   "source": [
    "for node in tk.graph.traverse():\n",
    "    if node.frame[\"name\"] != 'main' and node.frame[\"name\"] != 'comm' and node.frame[\"name\"] != 'comp_large':\n",
    "        continue\n",
    "    print(node)"
   ]
  },
  {
   "cell_type": "code",
   "execution_count": null,
   "metadata": {},
   "outputs": [],
   "source": [
    "# graphs for main. comm, and comp_large\n",
    "for node in tk.graph.traverse():\n",
    "    if node.frame[\"name\"] != 'main' and node.frame[\"name\"] != 'comm' and node.frame[\"name\"] != 'comp_large':\n",
    "        continue\n",
    "    for size in array_sizes:\n",
    "        df=(tk.dataframe.loc[node, \"Avg time/rank\"])\n",
    "        df = (df.loc[df.index.get_level_values('input_size') == size])\n",
    "        df = df.unstack(level=\"input_type\")\n",
    "        df = df.unstack(level=\"input_size\")\n",
    "        df = df.unstack(level=\"algorithm\")\n",
    "        plot_pandas(\n",
    "            df,\n",
    "            title=\"Sample Sort - \" + str(node.frame[\"name\"])+\" - input size \"+str(size),\n",
    "            xlabel=\"Number of Processes\",\n",
    "            ylabel=\"Time (seconds)\",\n",
    "        )\n",
    "\n",
    "        # automatically save graph as a file\n",
    "        filename = f\"./graphs/Sample_{str(node.frame['name'])}_{str(size)}.png\"\n",
    "        plt.savefig(filename)  # Save the plot as a PNG file"
   ]
  }
 ],
 "metadata": {
  "kernelspec": {
   "display_name": "Python 3",
   "language": "python",
   "name": "python3"
  },
  "language_info": {
   "codemirror_mode": {
    "name": "ipython",
    "version": 3
   },
   "file_extension": ".py",
   "mimetype": "text/x-python",
   "name": "python",
   "nbconvert_exporter": "python",
   "pygments_lexer": "ipython3",
   "version": "3.10.12"
  }
 },
 "nbformat": 4,
 "nbformat_minor": 2
}
